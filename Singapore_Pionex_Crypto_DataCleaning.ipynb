{
  "nbformat": 4,
  "nbformat_minor": 0,
  "metadata": {
    "colab": {
      "provenance": [],
      "authorship_tag": "ABX9TyNzBPasnxWv/yPlv5vWiPOQ",
      "include_colab_link": true
    },
    "kernelspec": {
      "name": "python3",
      "display_name": "Python 3"
    },
    "language_info": {
      "name": "python"
    }
  },
  "cells": [
    {
      "cell_type": "markdown",
      "metadata": {
        "id": "view-in-github",
        "colab_type": "text"
      },
      "source": [
        "<a href=\"https://colab.research.google.com/github/Keemar-4/Cleaning_Data/blob/main/Singapore_Pionex_Crypto_DataCleaning.ipynb\" target=\"_parent\"><img src=\"https://colab.research.google.com/assets/colab-badge.svg\" alt=\"Open In Colab\"/></a>"
      ]
    },
    {
      "cell_type": "code",
      "execution_count": 5,
      "metadata": {
        "id": "1y9hU1TYHNo9"
      },
      "outputs": [],
      "source": [
        "import psycopg2\n",
        "\n",
        "import pandas as pd\n",
        "import numpy as np\n",
        "import os\n",
        "import csv\n",
        "import re\n",
        "\n",
        "import random\n",
        "from datetime import datetime\n",
        "from dateutil import parser\n",
        "import matplotlib.pyplot as plt\n",
        "import math\n"
      ]
    },
    {
      "cell_type": "code",
      "source": [
        "# Specify the path to the folder containing the files\n",
        "file_path = \"241k-Singapore-pionex.com-Crypto-Trading-Bots-UsersDB-csv-2023.csv\"\n",
        "\n",
        "# Read the CSV file into a DataFrame\n",
        "df = pd.read_csv(file_path)\n",
        "output_folder = \"Chunks\"\n",
        "\n",
        "def split_file(file_path, chunk_size, output_directory):\n",
        "    os.makedirs(output_directory, exist_ok=True)\n",
        "\n",
        "    with open(file_path, 'rb') as file:\n",
        "        file_count = 0\n",
        "        current_size = 0\n",
        "        output_file = None\n",
        "\n",
        "        for line in file:\n",
        "            if output_file is None or current_size >= chunk_size * 1024 * 1024:\n",
        "                if output_file:\n",
        "                    output_file.close()\n",
        "                file_count += 1\n",
        "                current_size = 0\n",
        "                file_name = f'singapore_crypto_leak_{str(file_count).zfill(3)}.csv'\n",
        "                current_file_path = os.path.join(output_directory, file_name)\n",
        "                output_file = open(current_file_path, 'w', encoding='utf-8')\n",
        "\n",
        "            try:\n",
        "                decoded_line = line.decode('utf-8')  # Try decoding with UTF-8\n",
        "            except UnicodeDecodeError:\n",
        "                decoded_line = line.decode('latin-1')  # If that fails, try decoding with Latin-1\n",
        "\n",
        "            output_file.write(decoded_line)\n",
        "            current_size += len(line)\n",
        "\n",
        "        if output_file:\n",
        "            output_file.close()\n",
        "\n",
        "    print(f'Splitting complete. Total files created: {file_count}')\n",
        "\n",
        "# Usage\n",
        "split_file(file_path, 100, output_folder)\n"
      ],
      "metadata": {
        "colab": {
          "base_uri": "https://localhost:8080/"
        },
        "collapsed": true,
        "id": "8xMv__F_Hjs-",
        "outputId": "7625e0b0-e803-461f-e4c5-50da019fcf18"
      },
      "execution_count": 7,
      "outputs": [
        {
          "output_type": "stream",
          "name": "stdout",
          "text": [
            "Splitting complete. Total files created: 1\n"
          ]
        }
      ]
    },
    {
      "cell_type": "code",
      "source": [
        "# prompt: show the first 10 of singapore_crypto_leak_001.csv\n",
        "\n",
        "import pandas as pd\n",
        "\n",
        "# Assuming the file exists in the current directory\n",
        "df = pd.read_csv('Chunks/singapore_crypto_leak_001.csv')\n",
        "\n",
        "# Display the first 10 rows\n",
        "print(df.head(10))"
      ],
      "metadata": {
        "colab": {
          "base_uri": "https://localhost:8080/"
        },
        "collapsed": true,
        "id": "Tka63uBxI7-r",
        "outputId": "4c74e779-8997-4db8-cda8-9c56ae6586c1"
      },
      "execution_count": 8,
      "outputs": [
        {
          "output_type": "stream",
          "name": "stdout",
          "text": [
            "                          Email   First Name   Last Name        Phone  \\\n",
            "0          lgreaves35@gmail.com         Luke     Greaves  61431304164   \n",
            "1    jeanbaptist.tama@gmail.com  Jeanbaptist        Tama   6785555070   \n",
            "2  christianantondean@gmail.com    Christian        Dean  12424249200   \n",
            "3       manuelefereti@gmail.com      Manuele        kuki  61415050847   \n",
            "4       chrissi.mac48@gmail.com  Christopher  mcguinness  61448469538   \n",
            "5         sidsmith261@gmail.com       Sidney       Smith  64212936300   \n",
            "6         yust2mylord@gmail.com     franklin      summer  31682643619   \n",
            "7           kadrdavid@gmail.com        david         NaN  15143608002   \n",
            "8       Stachilleos94@gmail.com      Stelios   Achilleos  35799315551   \n",
            "9        chendavid519@gmail.com        David        Chen  61421033072   \n",
            "\n",
            "           Country Lang  RegistrationDate   BrandCode  \n",
            "0        Australia   EN  18.08.2021 23:57  pionex.com  \n",
            "1  Solomon Islands   EN  18.08.2021 23:57  pionex.com  \n",
            "2          Bahamas   EN  18.08.2021 23:54  pionex.com  \n",
            "3        Australia   EN  18.08.2021 23:54  pionex.com  \n",
            "4        Australia   EN  18.08.2021 23:54  pionex.com  \n",
            "5      New Zealand   EN  18.08.2021 23:54  pionex.com  \n",
            "6      Netherlands   EN  18.08.2021 23:51  pionex.com  \n",
            "7          Germany   EN  18.08.2021 23:51  pionex.com  \n",
            "8           Cyprus   EN  18.08.2021 23:48  pionex.com  \n",
            "9        Australia   EN  18.08.2021 23:48  pionex.com  \n"
          ]
        }
      ]
    },
    {
      "cell_type": "code",
      "source": [],
      "metadata": {
        "id": "3vcS20KyKdmf"
      },
      "execution_count": null,
      "outputs": []
    }
  ]
}